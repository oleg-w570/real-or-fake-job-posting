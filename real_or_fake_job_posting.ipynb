{
 "cells": [
  {
   "cell_type": "code",
   "execution_count": 27,
   "metadata": {},
   "outputs": [],
   "source": [
    "import numpy as np\n",
    "import pandas as pd\n",
    "import matplotlib.pyplot as plt\n",
    "import seaborn as sns"
   ]
  },
  {
   "cell_type": "markdown",
   "metadata": {},
   "source": [
    "# Классификация объявлений о работе на реальные и мошеннические"
   ]
  },
  {
   "cell_type": "markdown",
   "metadata": {},
   "source": [
    "Датасет содержит описание множества вакансий о работе. Среди вакансий могут быть как настоящие посты, так и мошеннические. Требуется определять по описания является ли вакансия настоящей или мошеннической."
   ]
  },
  {
   "cell_type": "code",
   "execution_count": 28,
   "metadata": {},
   "outputs": [],
   "source": [
    "data_raw = pd.read_csv(\"fake_job_postings.csv\")"
   ]
  },
  {
   "cell_type": "markdown",
   "metadata": {},
   "source": [
    "## Поверхностный обзор"
   ]
  },
  {
   "cell_type": "markdown",
   "metadata": {},
   "source": [
    "Обзор признаков:\n",
    "1. `job_id` - Уникальный идентификатор работы\n",
    "2. `title` - Название объявления о вакансии.\n",
    "3. `location` - Географическое местоположение объявления о вакансии.\n",
    "4. `department` - Корпоративный отдел (например, отдел продаж).\n",
    "5. `salary_range` - Ориентировочный диапазон заработной платы (например, 50 000–60 000 долларов США)\n",
    "6. `company_profile` - Краткое описание компании.\n",
    "7. `description` - Подробное описание вакансии.\n",
    "8. `requirements` - Перечислены требования к вакансии.\n",
    "9. `benefits` - Работодатель предлагает рядовым военнослужащим льготы.\n",
    "10. `telecommuting` - Удаленная работа или нет.\n",
    "11. `has_company_logo` - Присутствует ли логотип компании.\n",
    "12. `has_questions` - Присутствуют ли контрольные вопросы.\n",
    "13. `employment_type` - Полная занятость, неполный рабочий день, контракт и т. д.\n",
    "14. `required_experience` - Руководитель, Начальный уровень, Стажер и т.д.\n",
    "15. `required_education` - Докторантура, магистр, бакалавр и т.д.\n",
    "16. `industry` - Автомобилестроение, ИТ, здравоохранение, недвижимость и т. д.\n",
    "17. `function` - Консалтинг, инжиниринг, исследования, продажи и т. д.\n",
    "18. `fraudulent` - Мошенническое ли объявление (целевая переменная)."
   ]
  },
  {
   "cell_type": "code",
   "execution_count": 29,
   "metadata": {},
   "outputs": [
    {
     "data": {
      "text/html": [
       "<div>\n",
       "<style scoped>\n",
       "    .dataframe tbody tr th:only-of-type {\n",
       "        vertical-align: middle;\n",
       "    }\n",
       "\n",
       "    .dataframe tbody tr th {\n",
       "        vertical-align: top;\n",
       "    }\n",
       "\n",
       "    .dataframe thead th {\n",
       "        text-align: right;\n",
       "    }\n",
       "</style>\n",
       "<table border=\"1\" class=\"dataframe\">\n",
       "  <thead>\n",
       "    <tr style=\"text-align: right;\">\n",
       "      <th></th>\n",
       "      <th>job_id</th>\n",
       "      <th>title</th>\n",
       "      <th>location</th>\n",
       "      <th>department</th>\n",
       "      <th>salary_range</th>\n",
       "      <th>company_profile</th>\n",
       "      <th>description</th>\n",
       "      <th>requirements</th>\n",
       "      <th>benefits</th>\n",
       "      <th>telecommuting</th>\n",
       "      <th>has_company_logo</th>\n",
       "      <th>has_questions</th>\n",
       "      <th>employment_type</th>\n",
       "      <th>required_experience</th>\n",
       "      <th>required_education</th>\n",
       "      <th>industry</th>\n",
       "      <th>function</th>\n",
       "      <th>fraudulent</th>\n",
       "    </tr>\n",
       "  </thead>\n",
       "  <tbody>\n",
       "    <tr>\n",
       "      <th>0</th>\n",
       "      <td>1</td>\n",
       "      <td>Marketing Intern</td>\n",
       "      <td>US, NY, New York</td>\n",
       "      <td>Marketing</td>\n",
       "      <td>NaN</td>\n",
       "      <td>We're Food52, and we've created a groundbreaki...</td>\n",
       "      <td>Food52, a fast-growing, James Beard Award-winn...</td>\n",
       "      <td>Experience with content management systems a m...</td>\n",
       "      <td>NaN</td>\n",
       "      <td>0</td>\n",
       "      <td>1</td>\n",
       "      <td>0</td>\n",
       "      <td>Other</td>\n",
       "      <td>Internship</td>\n",
       "      <td>NaN</td>\n",
       "      <td>NaN</td>\n",
       "      <td>Marketing</td>\n",
       "      <td>0</td>\n",
       "    </tr>\n",
       "    <tr>\n",
       "      <th>1</th>\n",
       "      <td>2</td>\n",
       "      <td>Customer Service - Cloud Video Production</td>\n",
       "      <td>NZ, , Auckland</td>\n",
       "      <td>Success</td>\n",
       "      <td>NaN</td>\n",
       "      <td>90 Seconds, the worlds Cloud Video Production ...</td>\n",
       "      <td>Organised - Focused - Vibrant - Awesome!Do you...</td>\n",
       "      <td>What we expect from you:Your key responsibilit...</td>\n",
       "      <td>What you will get from usThrough being part of...</td>\n",
       "      <td>0</td>\n",
       "      <td>1</td>\n",
       "      <td>0</td>\n",
       "      <td>Full-time</td>\n",
       "      <td>Not Applicable</td>\n",
       "      <td>NaN</td>\n",
       "      <td>Marketing and Advertising</td>\n",
       "      <td>Customer Service</td>\n",
       "      <td>0</td>\n",
       "    </tr>\n",
       "    <tr>\n",
       "      <th>2</th>\n",
       "      <td>3</td>\n",
       "      <td>Commissioning Machinery Assistant (CMA)</td>\n",
       "      <td>US, IA, Wever</td>\n",
       "      <td>NaN</td>\n",
       "      <td>NaN</td>\n",
       "      <td>Valor Services provides Workforce Solutions th...</td>\n",
       "      <td>Our client, located in Houston, is actively se...</td>\n",
       "      <td>Implement pre-commissioning and commissioning ...</td>\n",
       "      <td>NaN</td>\n",
       "      <td>0</td>\n",
       "      <td>1</td>\n",
       "      <td>0</td>\n",
       "      <td>NaN</td>\n",
       "      <td>NaN</td>\n",
       "      <td>NaN</td>\n",
       "      <td>NaN</td>\n",
       "      <td>NaN</td>\n",
       "      <td>0</td>\n",
       "    </tr>\n",
       "    <tr>\n",
       "      <th>3</th>\n",
       "      <td>4</td>\n",
       "      <td>Account Executive - Washington DC</td>\n",
       "      <td>US, DC, Washington</td>\n",
       "      <td>Sales</td>\n",
       "      <td>NaN</td>\n",
       "      <td>Our passion for improving quality of life thro...</td>\n",
       "      <td>THE COMPANY: ESRI – Environmental Systems Rese...</td>\n",
       "      <td>EDUCATION: Bachelor’s or Master’s in GIS, busi...</td>\n",
       "      <td>Our culture is anything but corporate—we have ...</td>\n",
       "      <td>0</td>\n",
       "      <td>1</td>\n",
       "      <td>0</td>\n",
       "      <td>Full-time</td>\n",
       "      <td>Mid-Senior level</td>\n",
       "      <td>Bachelor's Degree</td>\n",
       "      <td>Computer Software</td>\n",
       "      <td>Sales</td>\n",
       "      <td>0</td>\n",
       "    </tr>\n",
       "    <tr>\n",
       "      <th>4</th>\n",
       "      <td>5</td>\n",
       "      <td>Bill Review Manager</td>\n",
       "      <td>US, FL, Fort Worth</td>\n",
       "      <td>NaN</td>\n",
       "      <td>NaN</td>\n",
       "      <td>SpotSource Solutions LLC is a Global Human Cap...</td>\n",
       "      <td>JOB TITLE: Itemization Review ManagerLOCATION:...</td>\n",
       "      <td>QUALIFICATIONS:RN license in the State of Texa...</td>\n",
       "      <td>Full Benefits Offered</td>\n",
       "      <td>0</td>\n",
       "      <td>1</td>\n",
       "      <td>1</td>\n",
       "      <td>Full-time</td>\n",
       "      <td>Mid-Senior level</td>\n",
       "      <td>Bachelor's Degree</td>\n",
       "      <td>Hospital &amp; Health Care</td>\n",
       "      <td>Health Care Provider</td>\n",
       "      <td>0</td>\n",
       "    </tr>\n",
       "  </tbody>\n",
       "</table>\n",
       "</div>"
      ],
      "text/plain": [
       "   job_id                                      title            location  \\\n",
       "0       1                           Marketing Intern    US, NY, New York   \n",
       "1       2  Customer Service - Cloud Video Production      NZ, , Auckland   \n",
       "2       3    Commissioning Machinery Assistant (CMA)       US, IA, Wever   \n",
       "3       4          Account Executive - Washington DC  US, DC, Washington   \n",
       "4       5                        Bill Review Manager  US, FL, Fort Worth   \n",
       "\n",
       "  department salary_range                                    company_profile  \\\n",
       "0  Marketing          NaN  We're Food52, and we've created a groundbreaki...   \n",
       "1    Success          NaN  90 Seconds, the worlds Cloud Video Production ...   \n",
       "2        NaN          NaN  Valor Services provides Workforce Solutions th...   \n",
       "3      Sales          NaN  Our passion for improving quality of life thro...   \n",
       "4        NaN          NaN  SpotSource Solutions LLC is a Global Human Cap...   \n",
       "\n",
       "                                         description  \\\n",
       "0  Food52, a fast-growing, James Beard Award-winn...   \n",
       "1  Organised - Focused - Vibrant - Awesome!Do you...   \n",
       "2  Our client, located in Houston, is actively se...   \n",
       "3  THE COMPANY: ESRI – Environmental Systems Rese...   \n",
       "4  JOB TITLE: Itemization Review ManagerLOCATION:...   \n",
       "\n",
       "                                        requirements  \\\n",
       "0  Experience with content management systems a m...   \n",
       "1  What we expect from you:Your key responsibilit...   \n",
       "2  Implement pre-commissioning and commissioning ...   \n",
       "3  EDUCATION: Bachelor’s or Master’s in GIS, busi...   \n",
       "4  QUALIFICATIONS:RN license in the State of Texa...   \n",
       "\n",
       "                                            benefits  telecommuting  \\\n",
       "0                                                NaN              0   \n",
       "1  What you will get from usThrough being part of...              0   \n",
       "2                                                NaN              0   \n",
       "3  Our culture is anything but corporate—we have ...              0   \n",
       "4                              Full Benefits Offered              0   \n",
       "\n",
       "   has_company_logo  has_questions employment_type required_experience  \\\n",
       "0                 1              0           Other          Internship   \n",
       "1                 1              0       Full-time      Not Applicable   \n",
       "2                 1              0             NaN                 NaN   \n",
       "3                 1              0       Full-time    Mid-Senior level   \n",
       "4                 1              1       Full-time    Mid-Senior level   \n",
       "\n",
       "  required_education                   industry              function  \\\n",
       "0                NaN                        NaN             Marketing   \n",
       "1                NaN  Marketing and Advertising      Customer Service   \n",
       "2                NaN                        NaN                   NaN   \n",
       "3  Bachelor's Degree          Computer Software                 Sales   \n",
       "4  Bachelor's Degree     Hospital & Health Care  Health Care Provider   \n",
       "\n",
       "   fraudulent  \n",
       "0           0  \n",
       "1           0  \n",
       "2           0  \n",
       "3           0  \n",
       "4           0  "
      ]
     },
     "execution_count": 29,
     "metadata": {},
     "output_type": "execute_result"
    }
   ],
   "source": [
    "data_raw.head()"
   ]
  },
  {
   "cell_type": "markdown",
   "metadata": {},
   "source": [
    "Объём данных: $N = 17880$\n",
    "\n",
    "Число признаков: $d = 18$\n",
    "\n",
    "Количество классов: $K = 2$"
   ]
  },
  {
   "cell_type": "code",
   "execution_count": 30,
   "metadata": {},
   "outputs": [
    {
     "name": "stdout",
     "output_type": "stream",
     "text": [
      "<class 'pandas.core.frame.DataFrame'>\n",
      "RangeIndex: 17880 entries, 0 to 17879\n",
      "Data columns (total 18 columns):\n",
      " #   Column               Non-Null Count  Dtype \n",
      "---  ------               --------------  ----- \n",
      " 0   job_id               17880 non-null  int64 \n",
      " 1   title                17880 non-null  object\n",
      " 2   location             17534 non-null  object\n",
      " 3   department           6333 non-null   object\n",
      " 4   salary_range         2868 non-null   object\n",
      " 5   company_profile      14572 non-null  object\n",
      " 6   description          17879 non-null  object\n",
      " 7   requirements         15184 non-null  object\n",
      " 8   benefits             10668 non-null  object\n",
      " 9   telecommuting        17880 non-null  int64 \n",
      " 10  has_company_logo     17880 non-null  int64 \n",
      " 11  has_questions        17880 non-null  int64 \n",
      " 12  employment_type      14409 non-null  object\n",
      " 13  required_experience  10830 non-null  object\n",
      " 14  required_education   9775 non-null   object\n",
      " 15  industry             12977 non-null  object\n",
      " 16  function             11425 non-null  object\n",
      " 17  fraudulent           17880 non-null  int64 \n",
      "dtypes: int64(5), object(13)\n",
      "memory usage: 2.5+ MB\n"
     ]
    }
   ],
   "source": [
    "data_raw.info()"
   ]
  },
  {
   "cell_type": "markdown",
   "metadata": {},
   "source": [
    "Можно заметить, что среди нескольких признаков есть пропуски, причём некоторые в значительном количестве. Первый признак `job_id` является уникальным индетификатором вакансии на площадке, поэтому целесообразно будет сразу убрать его, так как он не принесёт пользы в решении задачи.  "
   ]
  },
  {
   "cell_type": "code",
   "execution_count": 31,
   "metadata": {},
   "outputs": [],
   "source": [
    "data = data_raw.drop(columns=[\"job_id\"])"
   ]
  },
  {
   "cell_type": "markdown",
   "metadata": {},
   "source": [
    "## Обработка признаков"
   ]
  },
  {
   "cell_type": "markdown",
   "metadata": {},
   "source": [
    "### Признак `location`"
   ]
  },
  {
   "cell_type": "code",
   "execution_count": 32,
   "metadata": {},
   "outputs": [
    {
     "data": {
      "text/plain": [
       "array(['US, NY, New York', 'NZ, , Auckland', 'US, IA, Wever', ...,\n",
       "       'US, CA, los Angeles', 'CA, , Ottawa', 'GB, WSX, Chichester'],\n",
       "      dtype=object)"
      ]
     },
     "execution_count": 32,
     "metadata": {},
     "output_type": "execute_result"
    }
   ],
   "source": [
    "data.location.unique()"
   ]
  },
  {
   "cell_type": "code",
   "execution_count": 33,
   "metadata": {},
   "outputs": [
    {
     "data": {
      "text/plain": [
       "346"
      ]
     },
     "execution_count": 33,
     "metadata": {},
     "output_type": "execute_result"
    }
   ],
   "source": [
    "data.location.isna().sum()"
   ]
  },
  {
   "cell_type": "markdown",
   "metadata": {},
   "source": [
    "Локация представляет из себя набор: страна, штат (область), город. Кажется целесообразным разделить это на три отдельных признака. Они будут категориальными. Также присутствуют пропущенные значения как в целом, так и отдельно. Для них будем указывать, что информация не предоставлена. "
   ]
  },
  {
   "cell_type": "code",
   "execution_count": 34,
   "metadata": {},
   "outputs": [],
   "source": [
    "location_columns = [\"country\", \"state\", \"city\"]\n",
    "\n",
    "data[location_columns] = data[\"location\"].str.split(\",\", n=2, expand=True)\n",
    "\n",
    "for col in location_columns:\n",
    "    data[col] = data[col].fillna(\"Unspecified\")\n",
    "    data[col] = data[col].replace(\" \", \"Unspecified\")\n",
    "    data[col] = data[col].str.strip()\n",
    "    data[col] = data[col].str.lower()\n",
    "\n",
    "data = data.drop(columns=[\"location\"])\n",
    "\n",
    "data[location_columns] = data[location_columns].astype(\"category\")"
   ]
  },
  {
   "cell_type": "markdown",
   "metadata": {},
   "source": [
    "Получили следующее:"
   ]
  },
  {
   "cell_type": "code",
   "execution_count": 35,
   "metadata": {},
   "outputs": [
    {
     "data": {
      "text/plain": [
       "['us', 'nz', 'de', 'gb', 'au', ..., 'ni', 'lk', 'jm', 'kz', 'kh']\n",
       "Length: 91\n",
       "Categories (91, object): ['ae', 'al', 'am', 'ar', ..., 'vi', 'vn', 'za', 'zm']"
      ]
     },
     "execution_count": 35,
     "metadata": {},
     "output_type": "execute_result"
    }
   ],
   "source": [
    "data.country.unique()"
   ]
  },
  {
   "cell_type": "code",
   "execution_count": 36,
   "metadata": {},
   "outputs": [
    {
     "data": {
      "text/plain": [
       "['ny', 'unspecified', 'ia', 'dc', 'fl', ..., 'der', 'iow', 'dud', 'sn', 'nle']\n",
       "Length: 325\n",
       "Categories (325, object): ['00', '01', '02', '03', ..., 'wy', 'yor', 'zet', 'zh']"
      ]
     },
     "execution_count": 36,
     "metadata": {},
     "output_type": "execute_result"
    }
   ],
   "source": [
    "data.state.unique()"
   ]
  },
  {
   "cell_type": "code",
   "execution_count": 37,
   "metadata": {},
   "outputs": [
    {
     "data": {
      "text/plain": [
       "['new york', 'auckland', 'wever', 'washington', 'fort worth', ..., 'sacremento', 'meridian', 'slidell', 'silicon valley/san jose - santa clara', 'berkeley heights']\n",
       "Length: 2082\n",
       "Categories (2082, object): ['', '02139', '04102', '10010', ..., 'αthens', 'αθήνα', 'ελληνικο', '마포구 동교동']"
      ]
     },
     "execution_count": 37,
     "metadata": {},
     "output_type": "execute_result"
    }
   ],
   "source": [
    "data.city.unique()"
   ]
  },
  {
   "cell_type": "markdown",
   "metadata": {},
   "source": [
    "### Бинарные признаки"
   ]
  },
  {
   "cell_type": "code",
   "execution_count": 38,
   "metadata": {},
   "outputs": [],
   "source": [
    "binary_columns = [\"telecommuting\", \"has_company_logo\", \"has_questions\"]\n",
    "\n",
    "data[binary_columns] = data[binary_columns].astype(\"category\")"
   ]
  },
  {
   "cell_type": "code",
   "execution_count": 39,
   "metadata": {},
   "outputs": [
    {
     "data": {
      "text/plain": [
       "telecommuting       0\n",
       "has_company_logo    0\n",
       "has_questions       0\n",
       "dtype: int64"
      ]
     },
     "execution_count": 39,
     "metadata": {},
     "output_type": "execute_result"
    }
   ],
   "source": [
    "data[binary_columns].isna().sum()"
   ]
  },
  {
   "cell_type": "code",
   "execution_count": 40,
   "metadata": {},
   "outputs": [
    {
     "name": "stdout",
     "output_type": "stream",
     "text": [
      "TELECOMMUTING\n",
      "[0, 1]\n",
      "Categories (2, int64): [0, 1] \n",
      "\n",
      "HAS_COMPANY_LOGO\n",
      "[1, 0]\n",
      "Categories (2, int64): [0, 1] \n",
      "\n",
      "HAS_QUESTIONS\n",
      "[0, 1]\n",
      "Categories (2, int64): [0, 1] \n",
      "\n"
     ]
    }
   ],
   "source": [
    "for col in binary_columns:\n",
    "    print(col.upper())\n",
    "    print(data[col].unique(), \"\\n\")"
   ]
  },
  {
   "cell_type": "markdown",
   "metadata": {},
   "source": [
    "### Остальные категориальные признаки"
   ]
  },
  {
   "cell_type": "code",
   "execution_count": 41,
   "metadata": {},
   "outputs": [],
   "source": [
    "other_columns = [\n",
    "    \"department\",\n",
    "    \"salary_range\",\n",
    "    \"employment_type\",\n",
    "    \"required_experience\",\n",
    "    \"required_education\",\n",
    "    \"industry\",\n",
    "    \"function\",\n",
    "]\n",
    "\n",
    "data[other_columns] = data[other_columns].fillna(\"Unspecified\")\n",
    "data[other_columns] = data[other_columns].replace(\" \", \"Unspecified\")\n",
    "\n",
    "for col in other_columns:\n",
    "    data[col] = data[col].str.strip()\n",
    "    data[col] = data[col].str.lower()\n",
    "\n",
    "data[other_columns] = data[other_columns].astype(\"category\")"
   ]
  },
  {
   "cell_type": "code",
   "execution_count": 42,
   "metadata": {},
   "outputs": [
    {
     "name": "stdout",
     "output_type": "stream",
     "text": [
      "DEPARTMENT\n",
      "['marketing', 'success', 'unspecified', 'sales', 'androidpit', ..., 'hotel jobs', 'data entry, clerical admin, administrative as..., 'user experience design', 'admin - clerical', 'administrative dept']\n",
      "Length: 1224\n",
      "Categories (1224, object): ['(consultant)', '.net', '.net development', '0', ..., 'youth health clinic', 'área comercial', 'εμπορικο', 'πληροφορικη'] \n",
      "\n",
      "SALARY_RANGE\n",
      "['unspecified', '20000-28000', '100000-120000', '120000-150000', '50000-65000', ..., '21-31', '48000-65000', '53000-67000', '22-61000', '3700-3800']\n",
      "Length: 875\n",
      "Categories (875, object): ['0-0', '0-1', '0-1000', '0-100000', ..., 'jun-18', 'oct-15', 'oct-20', 'unspecified'] \n",
      "\n",
      "EMPLOYMENT_TYPE\n",
      "['other', 'full-time', 'unspecified', 'part-time', 'contract', 'temporary']\n",
      "Categories (6, object): ['contract', 'full-time', 'other', 'part-time', 'temporary', 'unspecified'] \n",
      "\n",
      "REQUIRED_EXPERIENCE\n",
      "['internship', 'not applicable', 'unspecified', 'mid-senior level', 'associate', 'entry level', 'executive', 'director']\n",
      "Categories (8, object): ['associate', 'director', 'entry level', 'executive', 'internship', 'mid-senior level', 'not applicable', 'unspecified'] \n",
      "\n",
      "REQUIRED_EDUCATION\n",
      "['unspecified', 'bachelor's degree', 'master's degree', 'high school or equivalent', 'some college coursework completed', ..., 'professional', 'doctorate', 'some high school coursework', 'vocational - degree', 'vocational - hs diploma']\n",
      "Length: 13\n",
      "Categories (13, object): ['associate degree', 'bachelor's degree', 'certification', 'doctorate', ..., 'unspecified', 'vocational', 'vocational - degree', 'vocational - hs diploma'] \n",
      "\n",
      "INDUSTRY\n",
      "['unspecified', 'marketing and advertising', 'computer software', 'hospital & health care', 'online media', ..., 'plastics', 'furniture', 'shipbuilding', 'alternative dispute resolution', 'ranching']\n",
      "Length: 132\n",
      "Categories (132, object): ['accounting', 'airlines/aviation', 'alternative dispute resolution', 'animation', ..., 'wholesale', 'wine and spirits', 'wireless', 'writing and editing'] \n",
      "\n",
      "FUNCTION\n",
      "['marketing', 'customer service', 'unspecified', 'sales', 'health care provider', ..., 'distribution', 'science', 'training', 'purchasing', 'legal']\n",
      "Length: 38\n",
      "Categories (38, object): ['accounting/auditing', 'administrative', 'advertising', 'art/creative', ..., 'supply chain', 'training', 'unspecified', 'writing/editing'] \n",
      "\n"
     ]
    }
   ],
   "source": [
    "for col in other_columns:\n",
    "    print(col.upper())\n",
    "    print(data[col].unique(), \"\\n\")"
   ]
  },
  {
   "cell_type": "markdown",
   "metadata": {},
   "source": [
    "### Кодирование признаков"
   ]
  },
  {
   "cell_type": "code",
   "execution_count": 43,
   "metadata": {},
   "outputs": [
    {
     "name": "stdout",
     "output_type": "stream",
     "text": [
      "Index(['department', 'salary_range', 'telecommuting', 'has_company_logo',\n",
      "       'has_questions', 'employment_type', 'required_experience',\n",
      "       'required_education', 'industry', 'function', 'country', 'state',\n",
      "       'city'],\n",
      "      dtype='object')\n"
     ]
    }
   ],
   "source": [
    "category_columns = data.select_dtypes(include=\"category\").columns\n",
    "print(category_columns)"
   ]
  },
  {
   "cell_type": "markdown",
   "metadata": {},
   "source": [
    "## Текстовые признаки"
   ]
  },
  {
   "cell_type": "code",
   "execution_count": 44,
   "metadata": {},
   "outputs": [
    {
     "name": "stdout",
     "output_type": "stream",
     "text": [
      "Index(['title', 'company_profile', 'description', 'requirements', 'benefits'], dtype='object')\n"
     ]
    }
   ],
   "source": [
    "text_columns = data.select_dtypes(include=\"object\").columns\n",
    "print(text_columns)"
   ]
  },
  {
   "cell_type": "code",
   "execution_count": 45,
   "metadata": {},
   "outputs": [],
   "source": [
    "data[text_columns] = data[text_columns].fillna(\"\")\n",
    "data[\"combined_text\"] = data[text_columns].agg(\" \".join, axis=1)"
   ]
  },
  {
   "cell_type": "code",
   "execution_count": 46,
   "metadata": {},
   "outputs": [],
   "source": [
    "import re\n",
    "\n",
    "\n",
    "def clean_text(text):\n",
    "    text = text.lower()\n",
    "    text = re.sub(r\"[^a-zA-Z\\s]\", \"\", text)\n",
    "    return text\n",
    "\n",
    "\n",
    "data[\"combined_text\"] = data[\"combined_text\"].apply(clean_text)"
   ]
  },
  {
   "cell_type": "markdown",
   "metadata": {},
   "source": [
    "## Разделение на тренировочную и тестовую выборки"
   ]
  },
  {
   "cell_type": "code",
   "execution_count": 47,
   "metadata": {},
   "outputs": [],
   "source": [
    "from sklearn.model_selection import train_test_split\n",
    "\n",
    "X = data.drop(columns=[\"fraudulent\"])\n",
    "y = data[\"fraudulent\"]\n",
    "\n",
    "X_train, X_test, y_train, y_test = train_test_split(\n",
    "    X, y, test_size=0.2, random_state=42\n",
    ")"
   ]
  },
  {
   "cell_type": "markdown",
   "metadata": {},
   "source": [
    "## Преобразование признаков"
   ]
  },
  {
   "cell_type": "code",
   "execution_count": 48,
   "metadata": {},
   "outputs": [],
   "source": [
    "from sklearn.preprocessing import OneHotEncoder\n",
    "\n",
    "encoder = OneHotEncoder(handle_unknown=\"ignore\")\n",
    "X_train_category = encoder.fit_transform(X_train[category_columns])\n",
    "X_test_category = encoder.transform(X_test[category_columns])"
   ]
  },
  {
   "cell_type": "code",
   "execution_count": 49,
   "metadata": {},
   "outputs": [],
   "source": [
    "from sklearn.feature_extraction.text import TfidfVectorizer\n",
    "\n",
    "vectorizer = TfidfVectorizer(max_features=5000, stop_words=\"english\")\n",
    "X_train_text = vectorizer.fit_transform(X_train[\"combined_text\"])\n",
    "X_test_text = vectorizer.transform(X_test[\"combined_text\"])"
   ]
  },
  {
   "cell_type": "code",
   "execution_count": 50,
   "metadata": {},
   "outputs": [],
   "source": [
    "from scipy.sparse import hstack\n",
    "\n",
    "X_train = hstack([X_train_category, X_train_text])\n",
    "X_test = hstack([X_test_category, X_test_text])"
   ]
  },
  {
   "cell_type": "markdown",
   "metadata": {},
   "source": [
    "## Обучение моделей без балансировки классов"
   ]
  },
  {
   "cell_type": "code",
   "execution_count": 51,
   "metadata": {},
   "outputs": [],
   "source": [
    "from sklearn.linear_model import LogisticRegression\n",
    "from sklearn.neighbors import KNeighborsClassifier\n",
    "from sklearn.ensemble import RandomForestClassifier\n",
    "from sklearn.svm import SVC\n",
    "\n",
    "\n",
    "models = {\n",
    "    \"Logistic Regression\": {\n",
    "        \"model\": LogisticRegression(n_jobs=-1),\n",
    "        \"pred\": None,\n",
    "    },\n",
    "    \"K-Nearest Neighbors\": {\n",
    "        \"model\": KNeighborsClassifier(n_jobs=-1),\n",
    "        \"pred\": None,\n",
    "    },\n",
    "    \"Random Forest\": {\n",
    "        \"model\": RandomForestClassifier(n_jobs=-1),\n",
    "        \"pred\": None,\n",
    "    },\n",
    "    \"SVM\": {\n",
    "        \"model\": SVC(),\n",
    "        \"pred\": None,\n",
    "    },\n",
    "}\n",
    "\n",
    "for name, model in models.items():\n",
    "    model[\"model\"].fit(X_train, y_train)\n",
    "    model[\"pred\"] = model[\"model\"].predict(X_test)"
   ]
  },
  {
   "cell_type": "code",
   "execution_count": 52,
   "metadata": {},
   "outputs": [
    {
     "name": "stdout",
     "output_type": "stream",
     "text": [
      "LOGISTIC REGRESSION\n",
      "              precision    recall  f1-score   support\n",
      "\n",
      "           0       0.98      1.00      0.99      3395\n",
      "           1       0.93      0.61      0.74       181\n",
      "\n",
      "    accuracy                           0.98      3576\n",
      "   macro avg       0.96      0.81      0.86      3576\n",
      "weighted avg       0.98      0.98      0.98      3576\n",
      " \n",
      "\n",
      "K-NEAREST NEIGHBORS\n",
      "              precision    recall  f1-score   support\n",
      "\n",
      "           0       0.98      0.99      0.99      3395\n",
      "           1       0.83      0.69      0.76       181\n",
      "\n",
      "    accuracy                           0.98      3576\n",
      "   macro avg       0.91      0.84      0.87      3576\n",
      "weighted avg       0.98      0.98      0.98      3576\n",
      " \n",
      "\n",
      "RANDOM FOREST\n",
      "              precision    recall  f1-score   support\n",
      "\n",
      "           0       0.98      1.00      0.99      3395\n",
      "           1       1.00      0.62      0.76       181\n",
      "\n",
      "    accuracy                           0.98      3576\n",
      "   macro avg       0.99      0.81      0.88      3576\n",
      "weighted avg       0.98      0.98      0.98      3576\n",
      " \n",
      "\n",
      "SVM\n",
      "              precision    recall  f1-score   support\n",
      "\n",
      "           0       0.98      1.00      0.99      3395\n",
      "           1       0.98      0.62      0.76       181\n",
      "\n",
      "    accuracy                           0.98      3576\n",
      "   macro avg       0.98      0.81      0.87      3576\n",
      "weighted avg       0.98      0.98      0.98      3576\n",
      " \n",
      "\n"
     ]
    },
    {
     "data": {
      "image/png": "[encoded data removed]",
      "text/plain": [
       "<Figure size 1200x1000 with 8 Axes>"
      ]
     },
     "metadata": {},
     "output_type": "display_data"
    }
   ],
   "source": [
    "from sklearn.metrics import classification_report, confusion_matrix\n",
    "\n",
    "fig, axes = plt.subplots(2, 2, figsize=(12, 10))\n",
    "\n",
    "for ax, (name, model) in zip(axes.ravel(), models.items()):\n",
    "    print(name.upper())\n",
    "    print(classification_report(y_test, model[\"pred\"]), \"\\n\")\n",
    "\n",
    "    cm = confusion_matrix(y_test, model[\"pred\"])\n",
    "    sns.heatmap(\n",
    "        cm,\n",
    "        annot=True,\n",
    "        fmt=\"d\",\n",
    "        ax=ax,\n",
    "        xticklabels=[\"Real\", \"Fake\"],\n",
    "        yticklabels=[\"Real\", \"Fake\"],\n",
    "        cmap=\"Blues\",\n",
    "    )\n",
    "    ax.set_title(name)\n",
    "    ax.set_xlabel(\"Predicted\")\n",
    "    ax.set_ylabel(\"Actual\")\n",
    "\n",
    "plt.tight_layout()"
   ]
  },
  {
   "cell_type": "markdown",
   "metadata": {},
   "source": [
    "## Борьба с несбалансированностью классов"
   ]
  },
  {
   "cell_type": "code",
   "execution_count": 53,
   "metadata": {},
   "outputs": [],
   "source": [
    "from imblearn.over_sampling import SMOTE\n",
    "\n",
    "sm = SMOTE(random_state=42)\n",
    "X_train, y_train = sm.fit_resample(X_train, y_train)"
   ]
  },
  {
   "cell_type": "markdown",
   "metadata": {},
   "source": [
    "## Обучение моделей с сбалансированными классами"
   ]
  },
  {
   "cell_type": "code",
   "execution_count": 55,
   "metadata": {},
   "outputs": [],
   "source": [
    "models = {\n",
    "    \"Logistic Regression\": {\n",
    "        \"model\": LogisticRegression(n_jobs=-1),\n",
    "        \"pred\": None,\n",
    "    },\n",
    "    \"K-Nearest Neighbors\": {\n",
    "        \"model\": KNeighborsClassifier(n_jobs=-1),\n",
    "        \"pred\": None,\n",
    "    },\n",
    "    \"Random Forest\": {\n",
    "        \"model\": RandomForestClassifier(n_jobs=-1),\n",
    "        \"pred\": None,\n",
    "    },\n",
    "    \"SVM\": {\n",
    "        \"model\": SVC(),\n",
    "        \"pred\": None,\n",
    "    },\n",
    "}\n",
    "\n",
    "for name, model in models.items():\n",
    "    model[\"model\"].fit(X_train, y_train)\n",
    "    model[\"pred\"] = model[\"model\"].predict(X_test)"
   ]
  },
  {
   "cell_type": "code",
   "execution_count": 56,
   "metadata": {},
   "outputs": [
    {
     "name": "stdout",
     "output_type": "stream",
     "text": [
      "LOGISTIC REGRESSION\n",
      "              precision    recall  f1-score   support\n",
      "\n",
      "           0       0.99      0.98      0.99      3395\n",
      "           1       0.72      0.88      0.79       181\n",
      "\n",
      "    accuracy                           0.98      3576\n",
      "   macro avg       0.86      0.93      0.89      3576\n",
      "weighted avg       0.98      0.98      0.98      3576\n",
      " \n",
      "\n",
      "K-NEAREST NEIGHBORS\n",
      "              precision    recall  f1-score   support\n",
      "\n",
      "           0       1.00      0.89      0.94      3395\n",
      "           1       0.31      0.95      0.47       181\n",
      "\n",
      "    accuracy                           0.89      3576\n",
      "   macro avg       0.66      0.92      0.71      3576\n",
      "weighted avg       0.96      0.89      0.92      3576\n",
      " \n",
      "\n",
      "RANDOM FOREST\n",
      "              precision    recall  f1-score   support\n",
      "\n",
      "           0       0.98      1.00      0.99      3395\n",
      "           1       0.99      0.67      0.80       181\n",
      "\n",
      "    accuracy                           0.98      3576\n",
      "   macro avg       0.99      0.83      0.89      3576\n",
      "weighted avg       0.98      0.98      0.98      3576\n",
      " \n",
      "\n",
      "SVM\n",
      "              precision    recall  f1-score   support\n",
      "\n",
      "           0       0.99      0.99      0.99      3395\n",
      "           1       0.86      0.83      0.85       181\n",
      "\n",
      "    accuracy                           0.98      3576\n",
      "   macro avg       0.92      0.91      0.92      3576\n",
      "weighted avg       0.98      0.98      0.98      3576\n",
      " \n",
      "\n"
     ]
    },
    {
     "data": {
      "image/png": "[encoded data removed]",
      "text/plain": [
       "<Figure size 1200x1000 with 8 Axes>"
      ]
     },
     "metadata": {},
     "output_type": "display_data"
    }
   ],
   "source": [
    "fig, axes = plt.subplots(2, 2, figsize=(12, 10))\n",
    "\n",
    "for ax, (name, model) in zip(axes.ravel(), models.items()):\n",
    "    print(name.upper())\n",
    "    print(classification_report(y_test, model[\"pred\"]), \"\\n\")\n",
    "\n",
    "    cm = confusion_matrix(y_test, model[\"pred\"])\n",
    "    sns.heatmap(\n",
    "        cm,\n",
    "        annot=True,\n",
    "        fmt=\"d\",\n",
    "        ax=ax,\n",
    "        xticklabels=[\"Real\", \"Fake\"],\n",
    "        yticklabels=[\"Real\", \"Fake\"],\n",
    "        cmap=\"Blues\",\n",
    "    )\n",
    "    ax.set_title(name)\n",
    "    ax.set_xlabel(\"Predicted\")\n",
    "    ax.set_ylabel(\"Actual\")\n",
    "\n",
    "plt.tight_layout()"
   ]
  },
  {
   "cell_type": "markdown",
   "metadata": {},
   "source": [
    "## Подбор гиперпараметров"
   ]
  },
  {
   "cell_type": "code",
   "execution_count": null,
   "metadata": {},
   "outputs": [],
   "source": [
    "from sklearn.model_selection import GridSearchCV\n",
    "\n",
    "param_grid = {\n",
    "    \"n_estimators\": [100, 200, 300],\n",
    "    \"max_depth\": [None, 10, 20, 30],\n",
    "    \"min_samples_split\": [2, 5, 10],\n",
    "    \"min_samples_leaf\": [1, 2, 4],\n",
    "}\n",
    "\n",
    "grid_search = GridSearchCV(RandomForestClassifier(), param_grid, n_jobs=-1)\n",
    "grid_search.fit(X_train, y_train)"
   ]
  },
  {
   "cell_type": "code",
   "execution_count": null,
   "metadata": {},
   "outputs": [],
   "source": []
  }
 ],
 "metadata": {
  "kernelspec": {
   "display_name": "ml",
   "language": "python",
   "name": "python3"
  },
  "language_info": {
   "codemirror_mode": {
    "name": "ipython",
    "version": 3
   },
   "file_extension": ".py",
   "mimetype": "text/x-python",
   "name": "python",
   "nbconvert_exporter": "python",
   "pygments_lexer": "ipython3",
   "version": "3.11.10"
  }
 },
 "nbformat": 4,
 "nbformat_minor": 2
}
